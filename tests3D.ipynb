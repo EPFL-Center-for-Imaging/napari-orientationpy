{
 "cells": [
  {
   "cell_type": "code",
   "execution_count": 12,
   "metadata": {},
   "outputs": [],
   "source": [
    "import orientationpy\n",
    "import numpy\n",
    "import tifffile\n",
    "import napari\n",
    "import matplotlib\n",
    "import numpy as np\n",
    "import napari.layers\n",
    "from napari.types import LayerDataTuple\n",
    "from typing import List\n",
    "from magicgui import magicgui"
   ]
  },
  {
   "cell_type": "code",
   "execution_count": 13,
   "metadata": {},
   "outputs": [],
   "source": [
    "# # Skeleton image\n",
    "\n",
    "# image = np.load('/home/wittwer/data/skeleton_for_orientationpy.npy')\n",
    "# image = image.astype(float)\n",
    "# rx, ry, rz = image.shape\n",
    "\n",
    "# image.shape"
   ]
  },
  {
   "cell_type": "code",
   "execution_count": 14,
   "metadata": {},
   "outputs": [
    {
     "data": {
      "text/plain": [
       "(30, 140, 140)"
      ]
     },
     "execution_count": 14,
     "metadata": {},
     "output_type": "execute_result"
    }
   ],
   "source": [
    "# Sam's data\n",
    "\n",
    "image = tifffile.imread('/home/wittwer/data/sam/sam-197081.tif')\n",
    "image = image[:, 180:320, 180:320]\n",
    "image = image.astype(float) / 256\n",
    "rx, ry, rz = image.shape\n",
    "\n",
    "image.shape"
   ]
  },
  {
   "cell_type": "code",
   "execution_count": 8,
   "metadata": {},
   "outputs": [],
   "source": [
    "# image = tifffile.imread('/home/wittwer/code/clones/orientationpy/data/3D/3dfib.tif')\n",
    "# # image = image[:50, :50, :50]\n",
    "# image = image.astype(float) / 256\n",
    "# rx, ry, rz = image.shape\n",
    "\n",
    "# image.shape"
   ]
  },
  {
   "cell_type": "code",
   "execution_count": 9,
   "metadata": {},
   "outputs": [],
   "source": [
    "# image = tifffile.imread('/home/wittwer/code/clones/orientationpy/data/3D/big-bin4.tif')\n",
    "# # image = image[:50, :50, :50]\n",
    "# image = image.astype(float) / 256\n",
    "# rx, ry, rz = image.shape\n",
    "\n",
    "# image.shape"
   ]
  },
  {
   "cell_type": "code",
   "execution_count": 15,
   "metadata": {},
   "outputs": [
    {
     "data": {
      "text/plain": [
       "<Image layer 'image' at 0x7f530dbbe220>"
      ]
     },
     "execution_count": 15,
     "metadata": {},
     "output_type": "execute_result"
    }
   ],
   "source": [
    "viewer = napari.Viewer(ndisplay=3)\n",
    "viewer.add_image(image, interpolation='nearest')"
   ]
  },
  {
   "cell_type": "code",
   "execution_count": 7,
   "metadata": {},
   "outputs": [
    {
     "data": {
      "application/vnd.jupyter.widget-view+json": {
       "model_id": "d5310d6fe6a548a095ec67beb593640c",
       "version_major": 2,
       "version_minor": 0
      },
      "text/plain": [
       "  0%|          | 0/30 [00:00<?, ?it/s]"
      ]
     },
     "metadata": {},
     "output_type": "display_data"
    }
   ],
   "source": [
    "SIGMA = 1.5\n",
    "\n",
    "gx, gy, gz = orientationpy.computeGradient(\n",
    "    image, \n",
    "    # mode='gaussian',\n",
    "    mode='splines',\n",
    "    # mode='finite_difference',\n",
    ")\n",
    "\n",
    "structureTensor = orientationpy.computeStructureTensor((gx, gy, gz), sigma=SIGMA)\n",
    "\n",
    "# Should energy be None (but still returned) if computeEnergy is False?\n",
    "dico = orientationpy.computeOrientation(\n",
    "    structureTensor, \n",
    "    mode=\"fibre\", \n",
    "    # mode=\"membrane\",\n",
    "    computeEnergy=True, \n",
    "    computeCoherency=True,\n",
    "    # nProcesses=3\n",
    ")\n",
    "\n",
    "theta = dico['theta']\n",
    "phi = dico['phi']\n",
    "energy = dico['energy']\n",
    "coherency = dico['coherency']\n",
    "\n",
    "imDisplayHSV = numpy.zeros((rx, ry, rz, 3), dtype=\"f4\")\n",
    "\n",
    "# Hue is the orientation (nice circular mapping)\n",
    "imDisplayHSV[..., 0] = phi / 360\n",
    "\n",
    "# Saturation is verticality, so white = up (z)\n",
    "imDisplayHSV[..., 1] = numpy.sin(numpy.deg2rad(theta))\n",
    "\n",
    "# Value is original image\n",
    "imDisplayHSV[..., 2] = image / image.max()\n",
    "\n",
    "imDisplayRGB = matplotlib.colors.hsv_to_rgb(imDisplayHSV)\n",
    "\n",
    "# # viewer.add_image(energy)\n",
    "# # viewer.add_image(coherency)\n",
    "# viewer.add_image(\n",
    "#     imDisplayRGB,\n",
    "#     rgb=True,\n",
    "#     # channel_axis=-1\n",
    "# )"
   ]
  },
  {
   "cell_type": "code",
   "execution_count": 10,
   "metadata": {},
   "outputs": [],
   "source": [
    "# sc = viewer.screenshot(canvas_only=True, flash=False)\n",
    "\n",
    "# from PIL import Image\n",
    "# Image.fromarray(sc)"
   ]
  },
  {
   "cell_type": "code",
   "execution_count": 16,
   "metadata": {},
   "outputs": [
    {
     "data": {
      "text/plain": [
       "<napari._qt.widgets.qt_viewer_dock_widget.QtViewerDockWidget at 0x7f532d950790>"
      ]
     },
     "execution_count": 16,
     "metadata": {},
     "output_type": "execute_result"
    },
    {
     "name": "stdout",
     "output_type": "stream",
     "text": [
      "(128, 128, 128)\n",
      "-----------\n",
      "(128, 128, 128) (128, 128, 128)\n"
     ]
    },
    {
     "data": {
      "application/vnd.jupyter.widget-view+json": {
       "model_id": "c60a9f05d7b542758135b87eda2c49a4",
       "version_major": 2,
       "version_minor": 0
      },
      "text/plain": [
       "  0%|          | 0/128 [00:00<?, ?it/s]"
      ]
     },
     "metadata": {},
     "output_type": "display_data"
    }
   ],
   "source": [
    "def compute_orientation(image: np.ndarray, sigma: float) -> np.ndarray:\n",
    "\n",
    "    gx, gy, gz = orientationpy.computeGradient(\n",
    "        image, \n",
    "        # mode='gaussian',\n",
    "        mode='splines',\n",
    "        # mode='finite_difference',\n",
    "    )\n",
    "\n",
    "    print(gx.shape, gy.shape)\n",
    "\n",
    "    structureTensor = orientationpy.computeStructureTensor((gx, gy, gz), sigma=sigma)\n",
    "\n",
    "    # Should energy be None (but still returned) if computeEnergy is False?\n",
    "    dico = orientationpy.computeOrientation(\n",
    "        structureTensor, \n",
    "        # mode=\"fibre\", \n",
    "        # mode=\"membrane\",\n",
    "        computeEnergy=True, \n",
    "        computeCoherency=True,\n",
    "        # nProcesses=2\n",
    "    )\n",
    "\n",
    "    theta = dico['theta']\n",
    "    phi = dico['phi']\n",
    "    energy = dico['energy']\n",
    "    coherency = dico['coherency']\n",
    "\n",
    "    rx, ry, rz = image.shape\n",
    "    imDisplayHSV = numpy.zeros((rx, ry, rz, 3), dtype=\"f4\")\n",
    "\n",
    "    # Hue is the orientation (nice circular mapping)\n",
    "    imDisplayHSV[..., 0] = phi / 360\n",
    "\n",
    "    # Saturation is verticality, so white = up (z)\n",
    "    imDisplayHSV[..., 1] = numpy.sin(numpy.deg2rad(theta))\n",
    "\n",
    "    # Value is original image\n",
    "    imDisplayHSV[..., 2] = image / image.max()\n",
    "\n",
    "    imDisplayRGB = matplotlib.colors.hsv_to_rgb(imDisplayHSV)\n",
    "\n",
    "    return imDisplayRGB\n",
    "\n",
    "@magicgui(call_button='Run', sigma={'widget_type': 'FloatSpinBox', 'min': 0, 'step': 0.1})\n",
    "def orientation_widget(image_layer: napari.layers.Image, sigma: float=1.0) -> List[LayerDataTuple]:\n",
    "    if image_layer is None:\n",
    "        return\n",
    "\n",
    "    image = image_layer.data\n",
    "\n",
    "    print(image.shape)\n",
    "    print('-----------')\n",
    "\n",
    "    imDisplayRGB = compute_orientation(image, sigma=sigma)\n",
    "\n",
    "    red, green, blue = np.rollaxis(imDisplayRGB, axis=-1)\n",
    "\n",
    "    return [\n",
    "        # (imDisplayRGB, {'name': 'orientation', 'rgb': True}, 'image'),\n",
    "        (red, {'name': 'ori_red', 'colormap': 'red', 'blending': 'additive'}, 'image'),\n",
    "        (green, {'name': 'ori_green', 'colormap': 'green', 'blending': 'additive'}, 'image'),\n",
    "        (blue, {'name': 'ori_blue', 'colormap': 'blue', 'blending': 'additive'}, 'image'),\n",
    "    ]\n",
    "\n",
    "viewer.window.add_dock_widget(orientation_widget, name='Orientationpy')"
   ]
  },
  {
   "cell_type": "code",
   "execution_count": 17,
   "metadata": {},
   "outputs": [
    {
     "name": "stdout",
     "output_type": "stream",
     "text": [
      "Computing gradients...done\n",
      "Computing structure tensor..."
     ]
    },
    {
     "name": "stderr",
     "output_type": "stream",
     "text": [
      "100%|██████████| 10/10 [00:00<00:00, 13.99it/s]"
     ]
    },
    {
     "name": "stdout",
     "output_type": "stream",
     "text": [
      "done\n"
     ]
    },
    {
     "name": "stderr",
     "output_type": "stream",
     "text": [
      "\n"
     ]
    },
    {
     "data": {
      "application/vnd.jupyter.widget-view+json": {
       "model_id": "5d6865b173c84d8faf6c7e8dbbd1986f",
       "version_major": 2,
       "version_minor": 0
      },
      "text/plain": [
       "  0%|          | 0/10 [00:00<?, ?it/s]"
      ]
     },
     "metadata": {},
     "output_type": "display_data"
    },
    {
     "data": {
      "text/plain": [
       "<Vectors layer 'sliced vectors' at 0x7f530dab5a60>"
      ]
     },
     "execution_count": 17,
     "metadata": {},
     "output_type": "execute_result"
    }
   ],
   "source": [
    "boxSizePixels = 3\n",
    "\n",
    "structureTensorBoxes = orientationpy.computeGradientStructureTensorBoxes(\n",
    "    image,\n",
    "    [boxSizePixels, boxSizePixels, boxSizePixels],\n",
    ")\n",
    "\n",
    "dicoBoxes = orientationpy.computeOrientation(\n",
    "    structureTensorBoxes,\n",
    "    mode=\"fiber\",\n",
    "    # mode='membrane',\n",
    "    computeEnergy=True,\n",
    "    computeCoherency=True,\n",
    ")\n",
    "\n",
    "thetaBoxes = dicoBoxes['theta']\n",
    "phiBoxes = dicoBoxes['phi']\n",
    "energyBoxes = dicoBoxes['energy']\n",
    "coherencyBoxes = dicoBoxes['coherency']\n",
    "\n",
    "boxVectorsZYX = orientationpy.anglesToVectors(dicoBoxes)\n",
    "\n",
    "boxCentresX, boxCentresY, boxCentresZ = numpy.mgrid[\n",
    "    boxSizePixels // 2 : thetaBoxes.shape[0] * boxSizePixels + boxSizePixels // 2 : boxSizePixels,\n",
    "    boxSizePixels // 2 : thetaBoxes.shape[1] * boxSizePixels + boxSizePixels // 2 : boxSizePixels,\n",
    "    boxSizePixels // 2 : thetaBoxes.shape[2] * boxSizePixels + boxSizePixels // 2 : boxSizePixels,\n",
    "]\n",
    "\n",
    "boxCentres = np.concatenate((boxCentresX[None], boxCentresY[None], boxCentresZ[None]), axis=0)\n",
    "\n",
    "_, bx, by, bz = boxCentres.shape\n",
    "\n",
    "bc = boxCentres.reshape((3, bx*by*bz))\n",
    "bv = boxVectorsZYX.reshape((3, bx*by*bz))\n",
    "\n",
    "bv *= energyBoxes.reshape((bx*by*bz)) / energyBoxes.max()\n",
    "bv *= boxSizePixels\n",
    "\n",
    "vectors = np.concatenate((bc[None], bv[None]), axis=0)\n",
    "vectors = np.rollaxis(vectors, axis=2)\n",
    "\n",
    "viewer.add_vectors(  # (N, 2, 3)\n",
    "    vectors, edge_width=0.4, name='sliced vectors', edge_color='blue'\n",
    ")"
   ]
  },
  {
   "cell_type": "code",
   "execution_count": null,
   "metadata": {},
   "outputs": [],
   "source": []
  }
 ],
 "metadata": {
  "kernelspec": {
   "display_name": "napari-env-2",
   "language": "python",
   "name": "python3"
  },
  "language_info": {
   "codemirror_mode": {
    "name": "ipython",
    "version": 3
   },
   "file_extension": ".py",
   "mimetype": "text/x-python",
   "name": "python",
   "nbconvert_exporter": "python",
   "pygments_lexer": "ipython3",
   "version": "3.9.15 | packaged by conda-forge | (main, Nov 22 2022, 15:55:03) \n[GCC 10.4.0]"
  },
  "orig_nbformat": 4,
  "vscode": {
   "interpreter": {
    "hash": "07a286d282e76534d2ced786d47c6487041e13297590e9f87777c74f5f29807e"
   }
  }
 },
 "nbformat": 4,
 "nbformat_minor": 2
}
