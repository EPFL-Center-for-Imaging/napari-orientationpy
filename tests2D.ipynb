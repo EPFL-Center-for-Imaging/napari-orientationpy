{
 "cells": [
  {
   "cell_type": "code",
   "execution_count": 1,
   "metadata": {},
   "outputs": [],
   "source": [
    "import orientationpy\n",
    "import numpy\n",
    "import tifffile\n",
    "import napari\n",
    "import matplotlib\n",
    "import numpy as np\n",
    "import napari.layers\n",
    "from napari.types import LayerDataTuple\n",
    "from magicgui import magicgui\n",
    "import matplotlib.pyplot as plt"
   ]
  },
  {
   "cell_type": "code",
   "execution_count": 2,
   "metadata": {},
   "outputs": [
    {
     "data": {
      "text/plain": [
       "(1302, 1470)"
      ]
     },
     "execution_count": 2,
     "metadata": {},
     "output_type": "execute_result"
    }
   ],
   "source": [
    "# Triangles\n",
    "\n",
    "image = tifffile.imread('/home/wittwer/data/triangles.tif')\n",
    "image = image.astype(float) / 256\n",
    "rx, ry = image.shape\n",
    "\n",
    "image.shape"
   ]
  },
  {
   "cell_type": "code",
   "execution_count": null,
   "metadata": {},
   "outputs": [],
   "source": [
    "# Sam's data\n",
    "\n",
    "image = tifffile.imread('/home/wittwer/data/sam/sam-197081.tif')[12]\n",
    "image = image.astype(float) / 256\n",
    "rx, ry = image.shape\n",
    "\n",
    "image.shape"
   ]
  },
  {
   "cell_type": "code",
   "execution_count": null,
   "metadata": {},
   "outputs": [],
   "source": [
    "# Orientationpy data\n",
    "\n",
    "image = tifffile.imread('/home/wittwer/code/clones/orientationpy/data/2D/image1_from_OrientationJ.tif')\n",
    "image = image.astype(float) / 256\n",
    "rx, ry = image.shape\n",
    "\n",
    "image.shape"
   ]
  },
  {
   "cell_type": "code",
   "execution_count": null,
   "metadata": {},
   "outputs": [],
   "source": [
    "# Orientationpy data\n",
    "\n",
    "image = tifffile.imread('/home/wittwer/code/clones/orientationpy/data/2D/chirp2.tif')\n",
    "image = image.astype(float) / 256\n",
    "rx, ry = image.shape\n",
    "\n",
    "image.shape"
   ]
  },
  {
   "cell_type": "code",
   "execution_count": null,
   "metadata": {},
   "outputs": [],
   "source": [
    "# Spiral\n",
    "\n",
    "image = tifffile.imread('/home/wittwer/code/clones/orientationpy/data/2D/BM-spiral.tif')\n",
    "image = image.astype(float) / 256\n",
    "rx, ry = image.shape\n",
    "\n",
    "image.shape"
   ]
  },
  {
   "attachments": {},
   "cell_type": "markdown",
   "metadata": {},
   "source": [
    "### Napari viewer"
   ]
  },
  {
   "cell_type": "code",
   "execution_count": 4,
   "metadata": {},
   "outputs": [
    {
     "data": {
      "text/plain": [
       "<Image layer 'image' at 0x7fbe673b59a0>"
      ]
     },
     "execution_count": 4,
     "metadata": {},
     "output_type": "execute_result"
    }
   ],
   "source": [
    "viewer = napari.Viewer(ndisplay=2)\n",
    "viewer.add_image(image, interpolation='nearest')\n",
    "\n",
    "# mask = (image < 0.05).astype(int)\n",
    "# viewer.add_image(mask, blending='additive', colormap='gray')"
   ]
  },
  {
   "attachments": {},
   "cell_type": "markdown",
   "metadata": {},
   "source": [
    "## Orientation comptuation"
   ]
  },
  {
   "cell_type": "code",
   "execution_count": null,
   "metadata": {},
   "outputs": [],
   "source": [
    "# gx, gy = orientationpy.computeGradient(image, mode='gaussian')\n",
    "\n",
    "# structureTensor = orientationpy.computeStructureTensor((gx, gy), sigma=2)\n",
    "\n",
    "# orientations = orientationpy.computeOrientation(\n",
    "#     structureTensor, \n",
    "#     computeEnergy=True, \n",
    "#     computeCoherency=True\n",
    "# )\n",
    "\n",
    "# theta = orientations['theta']\n",
    "# energy = orientations['energy']\n",
    "# coherency = orientations['coherency']"
   ]
  },
  {
   "attachments": {},
   "cell_type": "markdown",
   "metadata": {},
   "source": [
    "### Matplotlib viz"
   ]
  },
  {
   "cell_type": "code",
   "execution_count": null,
   "metadata": {},
   "outputs": [],
   "source": [
    "# # Should this be in the orientation computation function?\n",
    "# coherency[numpy.isnan(coherency)] = 0\n",
    "# coherency[image == 0] = 0\n",
    "# ##############\n",
    "\n",
    "# imDisplayHSV = numpy.zeros((image.shape[0], image.shape[1], 3), dtype='f4')\n",
    "\n",
    "# # Hue is the orientation (nice circular mapping)\n",
    "# imDisplayHSV[:, :, 0] = (theta + 90) / 180\n",
    "\n",
    "# # Saturation is coherency\n",
    "# imDisplayHSV[:, :, 1] = coherency / coherency.max()\n",
    "\n",
    "# # Value is original image ;)\n",
    "# imDisplayHSV[:, :, 2] = image / image.max()\n",
    "\n",
    "# fig, ax = plt.subplots()\n",
    "# cmap = matplotlib.cm.hsv\n",
    "# norm = matplotlib.colors.Normalize(vmin=-90, vmax=90)\n",
    "# fig.colorbar(matplotlib.cm.ScalarMappable(norm=norm, cmap=cmap))\n",
    "# ax.imshow(matplotlib.colors.hsv_to_rgb(imDisplayHSV))\n",
    "# plt.show()"
   ]
  },
  {
   "cell_type": "code",
   "execution_count": null,
   "metadata": {},
   "outputs": [],
   "source": [
    "# ### Option 2\n",
    "\n",
    "# alpha = coherency / (2 * coherency.max())\n",
    "\n",
    "# plt.imshow(image, cmap=\"Greys_r\", vmin=0)\n",
    "# plt.imshow(theta, cmap=\"hsv\", \n",
    "#     alpha=alpha,\n",
    "#     vmin=-90, vmax=90\n",
    "# )\n",
    "# plt.show()"
   ]
  },
  {
   "attachments": {},
   "cell_type": "markdown",
   "metadata": {},
   "source": [
    "### Napari dock widget"
   ]
  },
  {
   "cell_type": "code",
   "execution_count": null,
   "metadata": {},
   "outputs": [],
   "source": [
    "# def compute_orientation(image: np.ndarray, sigma: float) -> np.ndarray:\n",
    "\n",
    "#     gx, gy = orientationpy.computeGradient(image, mode='gaussian')\n",
    "\n",
    "#     structureTensor = orientationpy.computeStructureTensor((gx, gy), sigma=sigma)\n",
    "\n",
    "#     orientations, energy, coherency = orientationpy.computeOrientation(\n",
    "#         structureTensor, \n",
    "#         computeEnergy=True, \n",
    "#         computeCoherency=True\n",
    "#     )\n",
    "\n",
    "#     return orientations\n",
    "\n",
    "# @magicgui(call_button='Run', sigma={'widget_type': 'FloatSpinBox', 'min': 0, 'step': 0.1})\n",
    "# def orientation_widget(image_layer: napari.layers.Image, sigma: float=1.0) -> LayerDataTuple:\n",
    "#     if image_layer is None:\n",
    "#         return\n",
    "\n",
    "#     image = image_layer.data\n",
    "\n",
    "#     orientations = compute_orientation(image, sigma=sigma)\n",
    "\n",
    "#     return (orientations, {\n",
    "#         'name': 'orientation', \n",
    "#         'colormap': 'hsv', \n",
    "#         'blending': 'additive', \n",
    "#         'opacity': 0.4\n",
    "#         }, 'image')\n",
    "\n",
    "# viewer.window.add_dock_widget(orientation_widget, name='Orientationpy')"
   ]
  },
  {
   "attachments": {},
   "cell_type": "markdown",
   "metadata": {},
   "source": [
    "## Boxes"
   ]
  },
  {
   "cell_type": "code",
   "execution_count": 5,
   "metadata": {},
   "outputs": [
    {
     "data": {
      "text/plain": [
       "<napari._qt.widgets.qt_viewer_dock_widget.QtViewerDockWidget at 0x7fbe879e6f70>"
      ]
     },
     "execution_count": 5,
     "metadata": {},
     "output_type": "execute_result"
    },
    {
     "name": "stderr",
     "output_type": "stream",
     "text": [
      "100%|██████████| 186/186 [00:00<00:00, 298.99it/s]\n"
     ]
    },
    {
     "name": "stdout",
     "output_type": "stream",
     "text": [
      "(186, 210)\n",
      "6.873749965071359e-06 0.9999875996859503\n"
     ]
    }
   ],
   "source": [
    "def compute_vectors(image, boxSizePixels=5):\n",
    "\n",
    "    structureTensorBoxes = orientationpy.computeGradientStructureTensorBoxes(\n",
    "        image,\n",
    "        [boxSizePixels, boxSizePixels],\n",
    "    )\n",
    "\n",
    "    orientations = orientationpy.computeOrientation(\n",
    "        structureTensorBoxes,\n",
    "        mode=\"fiber\",\n",
    "        computeEnergy=True,\n",
    "        computeCoherency=True,\n",
    "    )\n",
    "\n",
    "    orientationBoxes = orientations['theta']\n",
    "    energyBoxes = orientations['energy']\n",
    "\n",
    "    boxVectorsYX = orientationpy.anglesToVectors(orientations)\n",
    "\n",
    "    boxCentresX, boxCentresY = numpy.mgrid[\n",
    "        boxSizePixels // 2 : orientationBoxes.shape[0] * boxSizePixels + boxSizePixels // 2 : boxSizePixels,\n",
    "        boxSizePixels // 2 : orientationBoxes.shape[1] * boxSizePixels + boxSizePixels // 2 : boxSizePixels,\n",
    "    ]\n",
    "\n",
    "    boxCentres = np.concatenate((boxCentresX[None], boxCentresY[None]), axis=0)\n",
    "\n",
    "    _, bx, by = boxCentres.shape\n",
    "\n",
    "    bc = boxCentres.reshape((2, bx*by))\n",
    "\n",
    "    bv = boxVectorsYX.reshape((2, bx*by))\n",
    "\n",
    "    # bv *= energyBoxes.reshape((bx*by)) / energyBoxes.max()\n",
    "    bv *= boxSizePixels\n",
    "\n",
    "    vectors = np.concatenate((bc[None], bv[None]), axis=0)\n",
    "    vectors = np.rollaxis(vectors, axis=2)\n",
    "\n",
    "    return vectors, orientationBoxes\n",
    "\n",
    "\n",
    "@magicgui(call_button='Run', box_size={'widget_type': 'SpinBox', 'min': 1})\n",
    "def vectors_widget(image_layer: napari.layers.Image, box_size: int=3) -> LayerDataTuple:\n",
    "    if image_layer is None:\n",
    "        return\n",
    "\n",
    "    image = image_layer.data\n",
    "\n",
    "    vectors, orientations = compute_vectors(image, boxSizePixels=box_size)\n",
    "    print(orientations.shape)\n",
    "    oris = orientations.ravel()\n",
    "    oris += 90\n",
    "    oris /= 180\n",
    "    print(oris.min(), oris.max())\n",
    "\n",
    "    return (vectors, {\n",
    "        'name': 'vectors', \n",
    "        'edge_color': 'orientation', \n",
    "        'edge_width': 0.7,\n",
    "        'features': {'orientation': oris}\n",
    "        }, 'vectors')\n",
    "\n",
    "viewer.window.add_dock_widget(vectors_widget, name='Orientation vectors')"
   ]
  },
  {
   "attachments": {},
   "cell_type": "markdown",
   "metadata": {},
   "source": [
    "### Matplotlib quiver"
   ]
  },
  {
   "cell_type": "code",
   "execution_count": null,
   "metadata": {},
   "outputs": [],
   "source": [
    "plt.imshow(image, cmap=\"Greys_r\", vmin=0)\n",
    "plt.quiver(\n",
    "    boxCentresX,\n",
    "    boxCentresY,\n",
    "    boxVectorsYX[1],\n",
    "    boxVectorsYX[0],\n",
    "    angles=\"xy\",\n",
    "    scale_units=\"xy\",\n",
    "    # scale=energyBoxes.ravel(),\n",
    "    color=\"r\",\n",
    "    headwidth=0,\n",
    "    headlength=0,\n",
    "    headaxislength=1,\n",
    ")\n",
    "plt.show()"
   ]
  },
  {
   "cell_type": "code",
   "execution_count": null,
   "metadata": {},
   "outputs": [],
   "source": []
  }
 ],
 "metadata": {
  "kernelspec": {
   "display_name": "Python 3.9.15 ('napari-env-2')",
   "language": "python",
   "name": "python3"
  },
  "language_info": {
   "codemirror_mode": {
    "name": "ipython",
    "version": 3
   },
   "file_extension": ".py",
   "mimetype": "text/x-python",
   "name": "python",
   "nbconvert_exporter": "python",
   "pygments_lexer": "ipython3",
   "version": "3.9.15 | packaged by conda-forge | (main, Nov 22 2022, 15:55:03) \n[GCC 10.4.0]"
  },
  "orig_nbformat": 4,
  "vscode": {
   "interpreter": {
    "hash": "07a286d282e76534d2ced786d47c6487041e13297590e9f87777c74f5f29807e"
   }
  }
 },
 "nbformat": 4,
 "nbformat_minor": 2
}
